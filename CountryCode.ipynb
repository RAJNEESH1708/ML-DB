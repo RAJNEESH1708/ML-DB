{
 "cells": [
  {
   "cell_type": "code",
   "execution_count": 1,
   "metadata": {},
   "outputs": [],
   "source": [
    "import csv\n",
    "\n",
    "with open('data_csv.csv', mode='r') as infile:\n",
    "    reader = csv.reader(infile)\n",
    "    mydict = {rows[0]:rows[1] for rows in reader}\n",
    "del mydict['Name']    "
   ]
  },
  {
   "cell_type": "code",
   "execution_count": 2,
   "metadata": {},
   "outputs": [
    {
     "name": "stdout",
     "output_type": "stream",
     "text": [
      "{'Ecuador': 'EC', 'Bangladesh': 'BD', 'Madagascar': 'MG', 'Saint Lucia': 'LC', 'Spain': 'ES', 'Mongolia': 'MN', 'Bulgaria': 'BG', 'Saint BarthÃ©lemy': 'BL', 'Cyprus': 'CY', 'Niue': 'NU', 'Greenland': 'GL', 'Belize': 'BZ', \"Korea, Democratic People's Republic of\": 'KP', 'Turkmenistan': 'TM', 'Viet Nam': 'VN', 'Latvia': 'LV', 'Tuvalu': 'TV', 'French Polynesia': 'PF', 'Cambodia': 'KH', 'Benin': 'BJ', 'Rwanda': 'RW', 'British Indian Ocean Territory': 'IO', 'Timor-Leste': 'TL', 'Bahamas': 'BS', 'Philippines': 'PH', 'Marshall Islands': 'MH', 'Sweden': 'SE', 'Guyana': 'GY', 'Mauritania': 'MR', 'Bolivia, Plurinational State of': 'BO', 'French Southern Territories': 'TF', 'Tokelau': 'TK', 'Peru': 'PE', 'Tajikistan': 'TJ', 'Israel': 'IL', 'Solomon Islands': 'SB', 'Mali': 'ML', 'Belgium': 'BE', 'Palau': 'PW', 'Haiti': 'HT', 'Hungary': 'HU', 'Seychelles': 'SC', 'Liechtenstein': 'LI', 'Denmark': 'DK', 'Iran, Islamic Republic of': 'IR', 'Costa Rica': 'CR', 'Algeria': 'DZ', 'Djibouti': 'DJ', 'RÃ©union': 'RE', 'Namibia': 'NA', 'Somalia': 'SO', 'Honduras': 'HN', 'Senegal': 'SN', 'Mauritius': 'MU', 'Saint Helena, Ascension and Tristan da Cunha': 'SH', 'United States': 'US', 'Central African Republic': 'CF', 'Niger': 'NE', 'Liberia': 'LR', 'Anguilla': 'AI', 'Western Sahara': 'EH', 'Saint Martin (French part)': 'MF', 'Taiwan, Province of China': 'TW', 'Suriname': 'SR', 'Nicaragua': 'NI', 'Macao': 'MO', 'Virgin Islands, British': 'VG', 'Fiji': 'FJ', 'Chile': 'CL', 'Russian Federation': 'RU', 'Bonaire, Sint Eustatius and Saba': 'BQ', 'Sint Maarten (Dutch part)': 'SX', 'Norfolk Island': 'NF', 'Martinique': 'MQ', 'Northern Mariana Islands': 'MP', 'Ethiopia': 'ET', 'Panama': 'PA', 'Tunisia': 'TN', 'Belarus': 'BY', 'Colombia': 'CO', 'Malta': 'MT', 'Slovakia': 'SK', 'Swaziland': 'SZ', 'Argentina': 'AR', 'Andorra': 'AD', 'Uruguay': 'UY', 'Saint Pierre and Miquelon': 'PM', 'Malawi': 'MW', 'Wallis and Futuna': 'WF', 'Uganda': 'UG', 'Mozambique': 'MZ', 'Chad': 'TD', 'Heard Island and McDonald Islands': 'HM', 'Puerto Rico': 'PR', 'Mayotte': 'YT', 'Pakistan': 'PK', 'Bermuda': 'BM', 'Grenada': 'GD', 'Georgia': 'GE', 'Slovenia': 'SI', 'Norway': 'NO', 'Iceland': 'IS', 'Syrian Arab Republic': 'SY', 'France': 'FR', 'Turkey': 'TR', 'Palestine, State of': 'PS', 'Dominica': 'DM', 'Cocos (Keeling) Islands': 'CC', 'Gibraltar': 'GI', 'Afghanistan': 'AF', 'Gabon': 'GA', 'Guernsey': 'GG', 'Iraq': 'IQ', 'Austria': 'AT', 'Czech Republic': 'CZ', 'Equatorial Guinea': 'GQ', 'Ghana': 'GH', 'Lesotho': 'LS', 'Singapore': 'SG', 'Italy': 'IT', 'Guam': 'GU', 'Eritrea': 'ER', 'Bouvet Island': 'BV', 'Kiribati': 'KI', 'Papua New Guinea': 'PG', 'Azerbaijan': 'AZ', 'Jordan': 'JO', 'Zambia': 'ZM', 'French Guiana': 'GF', 'Faroe Islands': 'FO', 'Luxembourg': 'LU', 'Togo': 'TG', 'Guatemala': 'GT', 'Saint Kitts and Nevis': 'KN', 'Kuwait': 'KW', 'Cayman Islands': 'KY', 'Comoros': 'KM', 'Dominican Republic': 'DO', 'Pitcairn': 'PN', 'Saint Vincent and the Grenadines': 'VC', 'Svalbard and Jan Mayen': 'SJ', 'Australia': 'AU', 'Sri Lanka': 'LK', 'Micronesia, Federated States of': 'FM', 'Sierra Leone': 'SL', 'Bhutan': 'BT', 'South Georgia and the South Sandwich Islands': 'GS', 'Barbados': 'BB', 'Indonesia': 'ID', 'Antarctica': 'AQ', 'Armenia': 'AM', 'Sao Tome and Principe': 'ST', 'Japan': 'JP', 'Brazil': 'BR', 'Burkina Faso': 'BF', 'Bosnia and Herzegovina': 'BA', 'Ireland': 'IE', 'Aruba': 'AW', 'China': 'CN', 'Kenya': 'KE', 'Ukraine': 'UA', 'Canada': 'CA', 'Qatar': 'QA', 'Brunei Darussalam': 'BN', 'Cook Islands': 'CK', \"CÃ´te d'Ivoire\": 'CI', 'Virgin Islands, U.S.': 'VI', 'United Kingdom': 'GB', 'Cameroon': 'CM', 'San Marino': 'SM', 'Switzerland': 'CH', 'Guinea-Bissau': 'GW', 'Croatia': 'HR', 'Poland': 'PL', 'Romania': 'RO', 'Antigua and Barbuda': 'AG', 'Samoa': 'WS', 'United States Minor Outlying Islands': 'UM', 'Angola': 'AO', 'Gambia': 'GM', 'Myanmar': 'MM', 'Trinidad and Tobago': 'TT', 'Oman': 'OM', 'Morocco': 'MA', 'Kazakhstan': 'KZ', 'Egypt': 'EG', 'Monaco': 'MC', 'Guadeloupe': 'GP', 'New Zealand': 'NZ', 'United Arab Emirates': 'AE', 'Mexico': 'MX', 'Thailand': 'TH', 'Cape Verde': 'CV', 'Netherlands': 'NL', 'Tonga': 'TO', 'Hong Kong': 'HK', 'Lebanon': 'LB', 'Macedonia, the Former Yugoslav Republic of': 'MK', 'Saudi Arabia': 'SA', 'Tanzania, United Republic of': 'TZ', 'South Sudan': 'SS', 'Zimbabwe': 'ZW', 'Paraguay': 'PY', 'Greece': 'GR', \"Lao People's Democratic Republic\": 'LA', 'Bahrain': 'BH', 'Finland': 'FI', 'Falkland Islands (Malvinas)': 'FK', 'Christmas Island': 'CX', 'Portugal': 'PT', 'Libya': 'LY', 'Kyrgyzstan': 'KG', 'Serbia': 'RS', 'Congo, the Democratic Republic of the': 'CD', 'CuraÃ§ao': 'CW', 'Nauru': 'NR', 'Montenegro': 'ME', 'Venezuela, Bolivarian Republic of': 'VE', 'Sudan': 'SD', 'Vanuatu': 'VU', 'South Africa': 'ZA', 'New Caledonia': 'NC', 'Nigeria': 'NG', 'Jersey': 'JE', 'Moldova, Republic of': 'MD', 'Albania': 'AL', 'Ã…land Islands': 'AX', 'Isle of Man': 'IM', 'Congo': 'CG', 'Uzbekistan': 'UZ', 'American Samoa': 'AS', 'India': 'IN', 'Cuba': 'CU', 'Nepal': 'NP', 'Malaysia': 'MY', 'Burundi': 'BI', 'Montserrat': 'MS', 'Maldives': 'MV', 'Botswana': 'BW', 'Estonia': 'EE', 'Korea, Republic of': 'KR', 'Yemen': 'YE', 'Holy See (Vatican City State)': 'VA', 'Jamaica': 'JM', 'Guinea': 'GN', 'El Salvador': 'SV', 'Germany': 'DE', 'Turks and Caicos Islands': 'TC', 'Lithuania': 'LT'}\n"
     ]
    }
   ],
   "source": [
    "print(mydict)"
   ]
  },
  {
   "cell_type": "code",
   "execution_count": 3,
   "metadata": {},
   "outputs": [
    {
     "name": "stdout",
     "output_type": "stream",
     "text": [
      "Enter the country code 1: IN\n",
      "Enter the country code 2: US\n"
     ]
    }
   ],
   "source": [
    "country_code_1 = input(\"Enter the country code 1: \")\n",
    "country_code_2 = input(\"Enter the country code 2: \")"
   ]
  },
  {
   "cell_type": "code",
   "execution_count": 13,
   "metadata": {},
   "outputs": [
    {
     "name": "stdout",
     "output_type": "stream",
     "text": [
      "Mongolia\n",
      "Niue\n",
      "Korea, Democratic People's Republic of\n",
      "Turkmenistan\n",
      "Latvia\n",
      "Tuvalu\n",
      "French Polynesia\n",
      "Cambodia\n",
      "Rwanda\n",
      "British Indian Ocean Territory\n",
      "Timor-Leste\n",
      "Philippines\n",
      "Marshall Islands\n",
      "Sweden\n",
      "Mauritania\n",
      "French Southern Territories\n",
      "Tokelau\n",
      "Peru\n",
      "Tajikistan\n",
      "Solomon Islands\n",
      "Mali\n",
      "Palau\n",
      "Seychelles\n",
      "Liechtenstein\n",
      "Iran, Islamic Republic of\n",
      "RÃ©union\n",
      "Namibia\n",
      "Somalia\n",
      "Senegal\n",
      "Mauritius\n",
      "Saint Helena, Ascension and Tristan da Cunha\n",
      "Niger\n",
      "Liberia\n",
      "Saint Martin (French part)\n",
      "Taiwan, Province of China\n",
      "Suriname\n",
      "Nicaragua\n",
      "Macao\n",
      "Russian Federation\n",
      "Sint Maarten (Dutch part)\n",
      "Norfolk Island\n",
      "Martinique\n",
      "Northern Mariana Islands\n",
      "Panama\n",
      "Tunisia\n",
      "Malta\n",
      "Slovakia\n",
      "Swaziland\n",
      "Saint Pierre and Miquelon\n",
      "Malawi\n",
      "Uganda\n",
      "Mozambique\n",
      "Chad\n",
      "Puerto Rico\n",
      "Pakistan\n",
      "Slovenia\n",
      "Norway\n",
      "Iceland\n",
      "Syrian Arab Republic\n",
      "Turkey\n",
      "Palestine, State of\n",
      "Iraq\n",
      "Lesotho\n",
      "Singapore\n",
      "Italy\n",
      "Kiribati\n",
      "Papua New Guinea\n",
      "Jordan\n",
      "Luxembourg\n",
      "Togo\n",
      "Saint Kitts and Nevis\n",
      "Kuwait\n",
      "Cayman Islands\n",
      "Comoros\n",
      "Pitcairn\n",
      "Svalbard and Jan Mayen\n",
      "Sri Lanka\n",
      "Sierra Leone\n",
      "Sao Tome and Principe\n",
      "Japan\n",
      "Kenya\n",
      "Ukraine\n",
      "Qatar\n",
      "San Marino\n",
      "Poland\n",
      "Romania\n",
      "United States Minor Outlying Islands\n",
      "Myanmar\n",
      "Trinidad and Tobago\n",
      "Oman\n",
      "Morocco\n",
      "Kazakhstan\n",
      "Monaco\n",
      "New Zealand\n",
      "Mexico\n",
      "Thailand\n",
      "Netherlands\n",
      "Tonga\n",
      "Lebanon\n",
      "Macedonia, the Former Yugoslav Republic of\n",
      "Saudi Arabia\n",
      "Tanzania, United Republic of\n",
      "South Sudan\n",
      "Paraguay\n",
      "Lao People's Democratic Republic\n",
      "Portugal\n",
      "Libya\n",
      "Kyrgyzstan\n",
      "Serbia\n",
      "Nauru\n",
      "Montenegro\n",
      "Sudan\n",
      "New Caledonia\n",
      "Nigeria\n",
      "Jersey\n",
      "Moldova, Republic of\n",
      "Nepal\n",
      "Malaysia\n",
      "Montserrat\n",
      "Maldives\n",
      "Korea, Republic of\n",
      "Jamaica\n",
      "El Salvador\n",
      "Turks and Caicos Islands\n",
      "Lithuania\n"
     ]
    }
   ],
   "source": [
    "new_dict = { key:val for key, val in mydict.items() if val > country_code_1 and val < country_code_2 }\n",
    "for key in new_dict:\n",
    "    print(key)"
   ]
  },
  {
   "cell_type": "code",
   "execution_count": null,
   "metadata": {},
   "outputs": [],
   "source": []
  }
 ],
 "metadata": {
  "kernelspec": {
   "display_name": "Python 3",
   "language": "python",
   "name": "python3"
  },
  "language_info": {
   "codemirror_mode": {
    "name": "ipython",
    "version": 3
   },
   "file_extension": ".py",
   "mimetype": "text/x-python",
   "name": "python",
   "nbconvert_exporter": "python",
   "pygments_lexer": "ipython3",
   "version": "3.8.5"
  }
 },
 "nbformat": 4,
 "nbformat_minor": 4
}
